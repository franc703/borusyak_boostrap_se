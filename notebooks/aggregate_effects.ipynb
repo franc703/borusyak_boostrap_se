{
 "cells": [
  {
   "cell_type": "code",
   "execution_count": null,
   "metadata": {},
   "outputs": [],
   "source": [
    "import pandas as pd\n",
    "import numpy as np"
   ]
  },
  {
   "cell_type": "markdown",
   "metadata": {},
   "source": [
    "I need to make changes to how are weights computed, I should do the share, the the inverse of that then I need to have a sum of the inverses, and compute the weights. This way we are giving more weights to the treated units in the presence of large number of untreated units.\n",
    "I need to add a function to replicate the way the authors compute the clustered standard errors"
   ]
  },
  {
   "cell_type": "code",
   "execution_count": null,
   "metadata": {},
   "outputs": [],
   "source": [
    "def aggregate_treatment_effects(data, treatment_column, estimand='overall', groupby_column=None, time_column=None):\n",
    "    \"\"\"\n",
    "    Aggregate treatment effects into a specific estimand.\n",
    "    \n",
    "    Parameters:\n",
    "        data (DataFrame): The data containing the treatment effects.\n",
    "        treatment_column (str): The column name for treatment effects.\n",
    "        estimand (str): The type of estimand to calculate ('overall', 'cohort', 'event').\n",
    "        groupby_column (str): The column to group by for cohort-specific estimands.\n",
    "        time_column (str): The time column for event-specific estimands.\n",
    "    \n",
    "    Returns:\n",
    "        float or Series: The aggregated treatment effect estimand.\n",
    "    \"\"\"\n",
    "    \n",
    "    if estimand == 'overall':\n",
    "        # Calculating the overall treatment effect\n",
    "        weights = 1 / data[treatment_column].count()\n",
    "        weighted_treatment_effect = np.sum(weights * data[treatment_column])\n",
    "        \n",
    "        return weighted_treatment_effect\n",
    "    \n",
    "    elif estimand == 'cohort':\n",
    "        # Check if a groupby_column is provided\n",
    "        if groupby_column is None:\n",
    "            raise ValueError('Groupby column must be provided for cohort-specific estimands.')\n",
    "        \n",
    "        group_data = data.groupby(groupby_column)\n",
    "        weights = 1 / group_data[treatment_column].count()\n",
    "        \n",
    "        # Calculating cohort-specific average treatment effects\n",
    "        weighted_treatment_effect = group_data[treatment_column].apply(np.mean) / weights\n",
    "        \n",
    "        return weighted_treatment_effect\n",
    "    \n",
    "    elif estimand == 'event':\n",
    "        # Check if a time_column is provided\n",
    "        if time_column is None:\n",
    "            raise ValueError('Time column must be provided for event-specific estimands.')\n",
    "            \n",
    "        group_data = data.groupby(time_column)\n",
    "        weights = 1 / group_data[treatment_column].count()\n",
    "        \n",
    "        # Calculating event-specific average treatment effects (Event study)\n",
    "        weighted_treatment_effect = group_data[treatment_column].apply(np.mean) / weights\n",
    "        \n",
    "        return weighted_treatment_effect\n",
    "    \n",
    "    else:\n",
    "        raise ValueError('Invalid estimand type. Choose among \"overall\", \"cohort\", or \"event\".')"
   ]
  },
  {
   "cell_type": "code",
   "execution_count": null,
   "metadata": {},
   "outputs": [],
   "source": [
    "# Example usage\n",
    "data = pd.DataFrame({'id': range(1, 11),\n",
    "                     'treatment_effects': np.random.normal(0, 1, 10),\n",
    "                     'cohort': ['A', 'B', 'A', 'B', 'A', 'A', 'B', 'A', 'B', 'A'],\n",
    "                     'time': [1, 2, 1, 2, 1, 2, 1, 2, 1, 2]})\n",
    "\n",
    "print(aggregate_treatment_effects(data, 'treatment_effects', estimand='overall'))\n",
    "print(aggregate_treatment_effects(data, 'treatment_effects', estimand='cohort', groupby_column='cohort'))\n",
    "print(aggregate_treatment_effects(data, 'treatment_effects', estimand='event', time_column='time'))"
   ]
  }
 ],
 "metadata": {
  "language_info": {
   "name": "python"
  },
  "orig_nbformat": 4
 },
 "nbformat": 4,
 "nbformat_minor": 2
}
