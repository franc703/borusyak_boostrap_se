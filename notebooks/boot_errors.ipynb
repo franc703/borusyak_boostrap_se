{
 "cells": [
  {
   "cell_type": "code",
   "execution_count": 1,
   "metadata": {},
   "outputs": [],
   "source": [
    "from scipy import stats\n",
    "import numpy as np\n",
    "from src.boot import boot_sample"
   ]
  },
  {
   "cell_type": "code",
   "execution_count": null,
   "metadata": {},
   "outputs": [],
   "source": [
    "def bootstrap_ATT(B, g, delta, your_data, unit_id, time):\n",
    "    \"\"\"\n",
    "    B: Number of bootstrap samples\n",
    "    g: Parameter g\n",
    "    delta: Parameter delta\n",
    "    your_data: The data you are working with, format depends on your needs\n",
    "    unit_id: Column name for unit IDs\n",
    "    time: Column name for time\n",
    "    \"\"\"\n",
    "    ATT_bootstrap_results = []\n",
    "    R_bootstrap_results = []\n",
    "    param_cov_matrices = []  # To store covariance matrices from each bootstrap\n",
    "    \n",
    "    for b in range(B):\n",
    "        # Step 1: Use boot_sample to draw the bootstrap sample\n",
    "        bs_data = boot_sample(your_data, unit_id, time)\n",
    "        \n",
    "        # Step 2: Modularized computation of ATT_hat_star and its covariance matrix\n",
    "        ATT_hat_star, cov_matrix = compute_ATT(bs_data)  # Make compute_ATT return covariance matrix\n",
    "        param_cov_matrices.append(cov_matrix)\n",
    "        \n",
    "        # Forming R_hat_star\n",
    "        R_hat_star = np.sqrt(n) * (ATT_hat_star - ATT_hat)\n",
    "        \n",
    "        # Storing results\n",
    "        ATT_bootstrap_results.append(ATT_hat_star)\n",
    "        R_bootstrap_results.append(R_hat_star)\n",
    "        \n",
    "    # Step 4: Bootstrap estimator of Sigma^(1/2)\n",
    "    q_75 = np.percentile(R_bootstrap_results, 75)\n",
    "    q_25 = np.percentile(R_bootstrap_results, 25)\n",
    "    z_75 = stats.norm.ppf(0.75)\n",
    "    z_25 = stats.norm.ppf(0.25)\n",
    "    sigma_half_hat = (q_75 - q_25) / (z_75 - z_25)\n",
    "    \n",
    "    # Step 5 and 6: Compute t-tests and empirical quantiles\n",
    "    t_tests = [np.abs(R) / sigma_half_hat for R in R_bootstrap_results]\n",
    "    c_1_alpha = np.percentile(t_tests, 95)  # Assuming alpha = 0.05\n",
    "    \n",
    "    # Step 7: Construct confidence bands (Extendable to simultaneous intervals)\n",
    "    ATT_hat_nev_dr, _ = compute_ATT(None, your_data)  \n",
    "    confidence_band = [ATT_hat_nev_dr + c_1_alpha * sigma_half_hat / np.sqrt(n),\n",
    "                       ATT_hat_nev_dr - c_1_alpha * sigma_half_hat / np.sqrt(n)]\n",
    "    \n",
    "    # Average parameter covariance matrix over all bootstraps\n",
    "    avg_param_cov_matrix = np.mean(param_cov_matrices, axis=0)\n",
    "    \n",
    "    # Standard errors from the diagonal of the average covariance matrix\n",
    "    param_std_errors = np.sqrt(np.diag(avg_param_cov_matrix))\n",
    "    \n",
    "    return confidence_band, param_std_errors"
   ]
  },
  {
   "cell_type": "code",
   "execution_count": null,
   "metadata": {},
   "outputs": [],
   "source": []
  }
 ],
 "metadata": {
  "kernelspec": {
   "display_name": ".venv",
   "language": "python",
   "name": "python3"
  },
  "language_info": {
   "codemirror_mode": {
    "name": "ipython",
    "version": 3
   },
   "file_extension": ".py",
   "mimetype": "text/x-python",
   "name": "python",
   "nbconvert_exporter": "python",
   "pygments_lexer": "ipython3",
   "version": "3.10.8"
  },
  "orig_nbformat": 4
 },
 "nbformat": 4,
 "nbformat_minor": 2
}
