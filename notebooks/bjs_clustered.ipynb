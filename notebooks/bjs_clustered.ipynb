{
 "cells": [
  {
   "cell_type": "code",
   "execution_count": 1,
   "metadata": {},
   "outputs": [],
   "source": [
    "import pandas as pd\n",
    "import numpy as np"
   ]
  },
  {
   "cell_type": "markdown",
   "metadata": {},
   "source": [
    "### Create Matrix Z"
   ]
  },
  {
   "cell_type": "code",
   "execution_count": null,
   "metadata": {},
   "outputs": [],
   "source": [
    "# Create a matrix Z that aggregate both time and unit fixed effects, and covariates\n",
    "\n",
    "# Collect unit and time fixed effects in matrix A\n",
    "time_dummies = pd.get_dummies(df['time'])\n",
    "unit_dummies = pd.get_dummies(df['unit'])\n",
    "A = pd.concat([time_dummies, unit_dummies], axis=1)\n",
    "\n",
    "# Collect covariates in matrix X\n",
    "X = df[['x1', 'x2']]\n",
    "\n",
    "# Create matrix Z, the sum of A and X\n",
    "Z = pd.concat([A, X], axis=1)\n",
    "\n",
    "# Create matrix Z0, by filtering matrix Z to only include treatment == 0\n",
    "Z0 = Z[df['treatment'] == 0]\n",
    "\n",
    "# Create matrix Z1, by filtering matrix Z to only include treatment == 1\n",
    "Z1 = Z[df['treatment'] == 1]\n",
    "\n",
    "# Create the matrix multiplication Z1(Z'Z)^-1 Z1'\n",
    "Z1Z1 = np.matmul(np.matmul(Z1, np.linalg.inv(np.matmul(Z.T, Z))), Z1.T)\n",
    "\n",
    "# Create the matrix multiplication Z0(Z'Z)^-1 Z1'\n",
    "Z0Z1 = np.matmul(np.matmul(Z0, np.linalg.inv(np.matmul(Z.T, Z))), Z1.T)\n",
    "\n",
    "# Create the identity matrix with n= to number of rows with treatment == 1\n",
    "I = np.identity(Z1.shape[0])\n",
    "\n",
    "# Create the weights w1 that is equal to the weights we used in the estimand of interest but filtered to only include treatment == 1\n",
    "w1 = w[df['treatment'] == 1]\n",
    "\n",
    "# Create the weight v* equal to (I -Z1Z1, Z0Z1) I(I'(I-Z1Z1)I)^-1 I' w1\n",
    "v_star = np.matmul(np.matmul(I - Z1Z1, Z0Z1), np.linalg.inv(np.matmul(np.matmul(I.T, I - Z1Z1), I)))"
   ]
  },
  {
   "cell_type": "markdown",
   "metadata": {},
   "source": [
    "### Create the choice \\theta_g for error construction"
   ]
  },
  {
   "cell_type": "code",
   "execution_count": null,
   "metadata": {},
   "outputs": [],
   "source": [
    "# Create the treatment effects to retrieve the error term: tau_g = (Sum_i (Sum_t v_star_it) (Sum_t v_star_it tau_it))/ (Sum_i (Sum_t v_star_it)^2)\n",
    "# In each summation over t, it belongs to G_g, the group of units that are in the same cluster as unit i\n",
    "tau_g = np.matmul(np.matmul(v_star, df['y']), np.matmul(v_star, df['treatment'])) / np.matmul(np.matmul(v_star, df['treatment']), np.matmul(v_star, df['treatment']))"
   ]
  },
  {
   "cell_type": "markdown",
   "metadata": {},
   "source": [
    "### Compute the error term"
   ]
  },
  {
   "cell_type": "code",
   "execution_count": null,
   "metadata": {},
   "outputs": [],
   "source": [
    "# Create the error term, which is equal to Y_it - A_i * lambda_i^start - X_it*delta^star - D_it * tau_g\n",
    "df['error'] = df['y'] - df['unit'].map(lambda x: lambda_start[x]) - df['x1'] * delta_star[0] - df['x2'] * delta_star[1] - df['treatment'] * tau_g"
   ]
  },
  {
   "cell_type": "markdown",
   "metadata": {},
   "source": [
    "### Compute the variance"
   ]
  },
  {
   "cell_type": "markdown",
   "metadata": {},
   "source": []
  }
 ],
 "metadata": {
  "kernelspec": {
   "display_name": ".venv",
   "language": "python",
   "name": "python3"
  },
  "language_info": {
   "codemirror_mode": {
    "name": "ipython",
    "version": 3
   },
   "file_extension": ".py",
   "mimetype": "text/x-python",
   "name": "python",
   "nbconvert_exporter": "python",
   "pygments_lexer": "ipython3",
   "version": "3.10.8"
  },
  "orig_nbformat": 4
 },
 "nbformat": 4,
 "nbformat_minor": 2
}
