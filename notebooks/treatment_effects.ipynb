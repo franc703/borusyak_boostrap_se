{
 "cells": [
  {
   "cell_type": "code",
   "execution_count": null,
   "metadata": {},
   "outputs": [],
   "source": [
    "import pandas as pd\n",
    "import statsmodels.api as sm"
   ]
  },
  {
   "cell_type": "markdown",
   "metadata": {},
   "source": [
    "I need to add the possibility to add covariates to the untreated twfe--- check\n",
    "I need to make sure I dont drop the treated but just separate them --- check\n",
    "I need to construct the function that creates the aggrete parameters using proper weights, create a weights function for this purpose.\n",
    "I need to make sure the graph for the hours over days is included in the data set \n",
    "test the boot error function, and make sure I get the diagonal of the covariance matrix.\n",
    "I need to create another function that make the testing of parallel trends on the untreated"
   ]
  },
  {
   "cell_type": "code",
   "execution_count": null,
   "metadata": {},
   "outputs": [],
   "source": [
    "def compute_treatment_effects(data, outcome, treatment, unit_id, time_id, covariates=[]):\n",
    "    # Filter the untreated units for model estimation\n",
    "    data_untreated = data[data[treatment] == 0]\n",
    "    \n",
    "    # Prepare the variables for fixed-effects regression\n",
    "    features = [outcome, treatment] + covariates\n",
    "    X = data_untreated.drop(features, axis=1)\n",
    "    X = pd.get_dummies(X, columns=[unit_id, time_id], drop_first=True)\n",
    "    \n",
    "    # Add covariates if any\n",
    "    if covariates:\n",
    "        X[covariates] = data_untreated[covariates]\n",
    "        \n",
    "    y = data_untreated[outcome]\n",
    "    \n",
    "    # Run the two-way fixed effects regression on untreated units\n",
    "    model = sm.OLS(y, sm.add_constant(X))\n",
    "    results = model.fit()\n",
    "    \n",
    "    # Create a column of predicted values only for treated units\n",
    "    data_treated = data[data[treatment] == 1]\n",
    "    X_treated = data_treated.drop(features, axis=1)\n",
    "    X_treated = pd.get_dummies(X_treated, columns=[unit_id, time_id], drop_first=True)\n",
    "    \n",
    "    # Add covariates if any\n",
    "    if covariates:\n",
    "        X_treated[covariates] = data_treated[covariates]\n",
    "        \n",
    "    data.loc[data[treatment] == 1, 'y_0'] = results.predict(sm.add_constant(X_treated))\n",
    "    \n",
    "    # Compute treatment effects\n",
    "    data['t_effects'] = data[outcome] - data['y_0']\n",
    "    \n",
    "    return data"
   ]
  },
  {
   "cell_type": "code",
   "execution_count": null,
   "metadata": {},
   "outputs": [],
   "source": [
    "# Create a toy dataset as an example\n",
    "import numpy as np\n",
    "np.random.seed(0)\n",
    "df = pd.DataFrame({\n",
    "    'unit_id': np.repeat(range(1, 11), 10),\n",
    "    'time_id': list(range(1, 11)) * 10,\n",
    "    'outcome': np.random.normal(0, 1, 100),\n",
    "    'treatment': np.random.choice([0, 1], 100),\n",
    "    'covariate1': np.random.normal(0, 1, 100),\n",
    "    'covariate2': np.random.normal(0, 1, 100),\n",
    "})\n",
    "\n",
    "# Apply the function\n",
    "result_df = compute_treatment_effects(df, 'outcome', 'treatment', 'unit_id', 'time_id', covariates=['covariate1', 'covariate2'])\n",
    "print(result_df)"
   ]
  }
 ],
 "metadata": {
  "language_info": {
   "name": "python"
  },
  "orig_nbformat": 4
 },
 "nbformat": 4,
 "nbformat_minor": 2
}
